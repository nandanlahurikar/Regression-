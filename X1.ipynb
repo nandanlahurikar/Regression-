{
 "cells": [
  {
   "cell_type": "code",
   "execution_count": 13,
   "metadata": {
    "collapsed": false
   },
   "outputs": [
    {
     "name": "stdout",
     "output_type": "stream",
     "text": [
      "            Adj. Close    HL_PCT  HL_Change  Adj. Open\n",
      "Date                                                  \n",
      "2004-08-19   50.322842  3.712563  -0.323915  50.159839\n",
      "2004-08-20   54.322689  0.710922  -6.739913  50.661387\n",
      "2004-08-23   54.869377  3.729433   1.243144  55.551482\n",
      "2004-08-24   52.597363  6.417469   6.074187  55.792225\n",
      "2004-08-25   53.164113  1.886792  -1.169811  52.542193\n"
     ]
    }
   ],
   "source": [
    "import pandas as pd\n",
    "import quandl\n",
    "\n",
    "df = quandl.get('WIKI/GOOGL')\n",
    " \n",
    "\n",
    "df = df[['Adj. Open',  'Adj. High' ,  'Adj. Low',  'Adj. Close'  ]]\n",
    "df['HL_PCT'] = ((df['Adj. High'] - df['Adj. Close'])/( df['Adj. Close'] ))*100\n",
    "df['HL_Change'] = ((df['Adj. Open'] - df['Adj. Close'])/( df['Adj. Close'] ))*100\n",
    "\n",
    "df = df[['Adj. Close', 'HL_PCT', 'HL_Change', 'Adj. Open']]\n",
    "print(df.head())\n"
   ]
  }
 ],
 "metadata": {
  "kernelspec": {
   "display_name": "Python 3",
   "language": "python",
   "name": "python3"
  }
 },
 "nbformat": 4,
 "nbformat_minor": 2
}
